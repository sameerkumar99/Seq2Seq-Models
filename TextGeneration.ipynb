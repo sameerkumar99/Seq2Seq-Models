{
 "cells": [
  {
   "cell_type": "code",
   "execution_count": 1,
   "metadata": {
    "id": "31hqftsqk2kX"
   },
   "outputs": [],
   "source": [
    "import tensorflow as tf\n",
    "import numpy as np\n",
    "import os \n",
    "import time"
   ]
  },
  {
   "cell_type": "code",
   "execution_count": 2,
   "metadata": {
    "id": "GYK5qpW325qk"
   },
   "outputs": [],
   "source": [
    "import torch\n",
    "import torch.nn as nn\n",
    "from torch.distributions import Categorical\n",
    "import torch.nn.functional as F"
   ]
  },
  {
   "cell_type": "code",
   "execution_count": 3,
   "metadata": {
    "colab": {
     "base_uri": "https://localhost:8080/"
    },
    "id": "9nuF8PALlgh6",
    "outputId": "8c7c2940-1669-420a-895f-53ae6c729155"
   },
   "outputs": [
    {
     "name": "stdout",
     "output_type": "stream",
     "text": [
      "Downloading data from https://storage.googleapis.com/download.tensorflow.org/data/shakespeare.txt\n",
      "1122304/1115394 [==============================] - 0s 0us/step\n"
     ]
    }
   ],
   "source": [
    "path_to_file = tf.keras.utils.get_file('shakespeare.txt', 'https://storage.googleapis.com/download.tensorflow.org/data/shakespeare.txt')"
   ]
  },
  {
   "cell_type": "code",
   "execution_count": 4,
   "metadata": {
    "colab": {
     "base_uri": "https://localhost:8080/"
    },
    "id": "DINcX0xL20vG",
    "outputId": "4fbdb9e9-6046-4761-d2f6-be24c992dd50"
   },
   "outputs": [
    {
     "name": "stdout",
     "output_type": "stream",
     "text": [
      "Length of text: 1115394 characters\n"
     ]
    }
   ],
   "source": [
    "# Read, then decode for py2 compat.\n",
    "text = open(path_to_file, 'rb').read().decode(encoding='utf-8')\n",
    "# length of text is the number of characters in it\n",
    "print('Length of text: {} characters'.format(len(text)))"
   ]
  },
  {
   "cell_type": "code",
   "execution_count": 36,
   "metadata": {
    "colab": {
     "base_uri": "https://localhost:8080/"
    },
    "id": "Uugzs2fU23M7",
    "outputId": "b6e8cca7-4aeb-4996-fc3c-be92880cfdf1"
   },
   "outputs": [
    {
     "name": "stdout",
     "output_type": "stream",
     "text": [
      "First Citizen:\n",
      "Before we proceed any further, hear me speak.\n",
      "\n",
      "All:\n",
      "Speak, speak.\n",
      "\n",
      "First Citizen:\n",
      "You are all resolved rather to die than to famish?\n",
      "\n",
      "All:\n",
      "Resolved. resolved.\n",
      "\n",
      "First Citizen:\n",
      "First, you know Caius Marcius is chief enemy to the people.\n",
      "\n",
      "All:\n",
      "We know't, we know't.\n",
      "\n",
      "First Citizen:\n",
      "Let us kill him, and we'll have corn at our own price.\n",
      "Is't a verdict?\n",
      "\n",
      "All:\n",
      "No more talking on't; let it \n"
     ]
    }
   ],
   "source": [
    "print(text[:400])"
   ]
  },
  {
   "cell_type": "code",
   "execution_count": 6,
   "metadata": {
    "id": "p_y8K_Vd2_qz"
   },
   "outputs": [],
   "source": [
    "if torch.cuda.is_available():\n",
    "  device = \"cuda:0\"\n",
    "else:\n",
    "  device = \"cpu\""
   ]
  },
  {
   "cell_type": "code",
   "execution_count": 7,
   "metadata": {
    "id": "iVPNsTzk3ibh"
   },
   "outputs": [],
   "source": [
    "vocab = set(text)"
   ]
  },
  {
   "cell_type": "code",
   "execution_count": 8,
   "metadata": {
    "id": "9C6t2HDA3JZB"
   },
   "outputs": [],
   "source": [
    "char2idx = {ch:i for i,ch in enumerate(vocab)}\n",
    "idx2char = {i:ch for i,ch in enumerate(vocab)}"
   ]
  },
  {
   "cell_type": "code",
   "execution_count": 9,
   "metadata": {
    "id": "WiNDtI8R-9Xy"
   },
   "outputs": [],
   "source": [
    "# l1 = nn.Linear(3, 4)\n",
    "# gru = nn.RNN(2, 3)\n",
    "# input = torch.randn(5, 1, 2)"
   ]
  },
  {
   "cell_type": "code",
   "execution_count": 10,
   "metadata": {
    "id": "yy544YFs_WJa"
   },
   "outputs": [],
   "source": [
    "# outputs = gru(input)"
   ]
  },
  {
   "cell_type": "code",
   "execution_count": 11,
   "metadata": {
    "id": "0OoBB3wQ_ZJP"
   },
   "outputs": [],
   "source": [
    "# l1(outputs[0]).shape"
   ]
  },
  {
   "cell_type": "code",
   "execution_count": 12,
   "metadata": {
    "id": "V_G8fXVo3SfV"
   },
   "outputs": [],
   "source": [
    "class MyModel(nn.Module):\n",
    "  def __init__(self, input_size, hidden_size, output_size):\n",
    "    super(MyModel, self).__init__()\n",
    "    self.input_size = input_size\n",
    "    self.hidden_size = hidden_size\n",
    "    self.output_size = output_size\n",
    "    self.embedding = nn.Embedding(input_size, input_size)\n",
    "    self.rnn = nn.GRU(input_size=input_size, hidden_size=hidden_size, num_layers=2)\n",
    "    self.decoder = nn.Linear(hidden_size, output_size)\n",
    "  def forward(self, x, hidden):\n",
    "    embedding = self.embedding(x)\n",
    "    outputs, h_n = self.rnn(embedding, hidden)\n",
    "    outputs = self.decoder(outputs)\n",
    "    return outputs, h_n.detach()"
   ]
  },
  {
   "cell_type": "code",
   "execution_count": 27,
   "metadata": {
    "id": "64F15ceC3vqG"
   },
   "outputs": [],
   "source": [
    "vocab_size = len(vocab)\n",
    "hidden_size = 512\n",
    "learning_rate = 0.0001\n",
    "input_size = vocab_size\n",
    "output_size = vocab_size\n",
    "seq_length = 100\n",
    "text_size = len(text)\n",
    "EPOCHS = 15"
   ]
  },
  {
   "cell_type": "code",
   "execution_count": 15,
   "metadata": {
    "id": "tVtSfJ8iBI9Y"
   },
   "outputs": [],
   "source": [
    "inputs = [char2idx[i] for i in text[:seq_length]]\n",
    "outputs = [char2idx[i] for i in text[1:seq_length+1]]"
   ]
  },
  {
   "cell_type": "code",
   "execution_count": 16,
   "metadata": {
    "id": "lS9CPfn8Lk9Y"
   },
   "outputs": [],
   "source": [
    "# text"
   ]
  },
  {
   "cell_type": "code",
   "execution_count": 17,
   "metadata": {
    "colab": {
     "base_uri": "https://localhost:8080/"
    },
    "id": "I1z6r95XDPfp",
    "outputId": "f6a5004a-1764-4d3d-ef56-6a7effa35d14"
   },
   "outputs": [
    {
     "data": {
      "text/plain": [
       "torch.Size([1115394, 1])"
      ]
     },
     "execution_count": 17,
     "metadata": {
      "tags": []
     },
     "output_type": "execute_result"
    }
   ],
   "source": [
    "enc_text = [char2idx[i] for i in text]\n",
    "enc_text = torch.tensor(enc_text).long().to(device)\n",
    "enc_text.unsqueeze_(1)\n",
    "enc_text.shape"
   ]
  },
  {
   "cell_type": "code",
   "execution_count": 18,
   "metadata": {
    "colab": {
     "base_uri": "https://localhost:8080/"
    },
    "id": "MYlDC0AZBW87",
    "outputId": "a63ad456-6182-4d13-fd01-7f9f0fccc2b4"
   },
   "outputs": [
    {
     "data": {
      "text/plain": [
       "torch.Size([100, 1])"
      ]
     },
     "execution_count": 18,
     "metadata": {
      "tags": []
     },
     "output_type": "execute_result"
    }
   ],
   "source": [
    "inputs = enc_text[:seq_length]\n",
    "# inputs = inputs.unsqueeze(1)\n",
    "inputs.shape"
   ]
  },
  {
   "cell_type": "code",
   "execution_count": 19,
   "metadata": {
    "id": "lNa2PwfIBXoM"
   },
   "outputs": [],
   "source": [
    "# model = MyModel(input_size, hidden_size, output_size).to(device)\n",
    "# model(inputs)"
   ]
  },
  {
   "cell_type": "code",
   "execution_count": 20,
   "metadata": {
    "id": "ZbMT70tBHLBN"
   },
   "outputs": [],
   "source": [
    "# device"
   ]
  },
  {
   "cell_type": "code",
   "execution_count": 21,
   "metadata": {
    "id": "orCFNdYhBzBf"
   },
   "outputs": [],
   "source": [
    "# outputs, h1 = model(inputs, None)"
   ]
  },
  {
   "cell_type": "code",
   "execution_count": 22,
   "metadata": {
    "colab": {
     "base_uri": "https://localhost:8080/"
    },
    "id": "Eo1x2YHmB5bl",
    "outputId": "47b33a7c-572a-4409-ebcb-08763b3c0209"
   },
   "outputs": [
    {
     "data": {
      "text/plain": [
       "(torch.Size([100, 1, 65]), torch.Size([2, 1, 512]))"
      ]
     },
     "execution_count": 22,
     "metadata": {
      "tags": []
     },
     "output_type": "execute_result"
    }
   ],
   "source": [
    "outputs.shape, h1.shape"
   ]
  },
  {
   "cell_type": "code",
   "execution_count": 23,
   "metadata": {
    "id": "jirLQorjCBE1"
   },
   "outputs": [],
   "source": [
    "# outputs, h1 = model(inputs, h1)"
   ]
  },
  {
   "cell_type": "code",
   "execution_count": 24,
   "metadata": {
    "id": "4xlKjqE2ChdM"
   },
   "outputs": [],
   "source": [
    "# outputs.shape, h1.shape"
   ]
  },
  {
   "cell_type": "code",
   "execution_count": 29,
   "metadata": {
    "id": "oajqOlzKECd0"
   },
   "outputs": [],
   "source": [
    "model = MyModel(input_size, hidden_size, output_size).to(device)\n",
    "loss_fn = nn.CrossEntropyLoss()\n",
    "optimizer = torch.optim.Adam(model.parameters(), lr=learning_rate)"
   ]
  },
  {
   "cell_type": "code",
   "execution_count": 26,
   "metadata": {
    "colab": {
     "base_uri": "https://localhost:8080/"
    },
    "id": "0tz32UoBCjBV",
    "outputId": "a6fc8c70-3b95-4277-a5bb-fe252299a6c6"
   },
   "outputs": [
    {
     "name": "stdout",
     "output_type": "stream",
     "text": [
      "||||||||||||||||||||||\n",
      "--------------------------\n",
      "Epoch : 1 Epoch_loss : 1.541408\n",
      "gate.\n",
      "\n",
      "ANTONO:\n",
      "Did-gone not a wlother.\n",
      "\n",
      "ANTONIO:\n",
      "No down to the last of him, of your servants\n",
      "And then woys would trink you bush, for exterminets mine exery\n",
      "and hour myself bound\n",
      "To wonders him, persfo\n",
      "-----------------------\n",
      "||||||||||||||||||||||\n",
      "--------------------------\n",
      "Epoch : 2 Epoch_loss : 1.328842\n",
      "ags!\n",
      "\n",
      "ANTONIO:\n",
      "Welcommine!\n",
      "\n",
      "ALINAN:\n",
      "Who seem at your pleasure,\n",
      "you that did--\n",
      "\n",
      "GONZALO:\n",
      "I long to you withal. But then he profisions\n",
      "Beat volumeth any profutyastive; the\n",
      "Clursed on your dear,\n",
      "And but o\n",
      "-----------------------\n",
      "||||||||||||||||||||||\n",
      "--------------------------\n",
      "Epoch : 3 Epoch_loss : 1.269898\n",
      " Gtoll,\n",
      "Who wores modest in the strivath;\n",
      "Nembling vissarish the cholmours; the sighness, but knew of\n",
      "Did know stolanching. Sweet sin; I am son;\n",
      "Who master let'st a stooa livon.\n",
      "\n",
      "ANTONIO:\n",
      "We at a tendo\n",
      "-----------------------\n",
      "||||||||||||||||||||||\n",
      "--------------------------\n",
      "Epoch : 4 Epoch_loss : 1.238731\n",
      "s:\n",
      "woo'n sight-shallong and andomity:\n",
      "Nutter'd, obedientary, we was not thincs,\n",
      "Which can no land, to save, arril; not messable,\n",
      "I prithee, Caithacomfort it.\n",
      "\n",
      "SEBASTIAN:\n",
      "No, and lord:\n",
      "I have perpetuals\n",
      "-----------------------\n",
      "||||||||||||||||||||||\n",
      "--------------------------\n",
      "Epoch : 5 Epoch_loss : 1.222182\n",
      "st our complexer:\n",
      "If I wear on tribute, that, within!\n",
      "This isle, speed he chiders the advice; I am there.\n",
      "\n",
      "SEBASTIAN:\n",
      "You know now, sir, it is.\n",
      "\n",
      "GONZALO:\n",
      "Not wondle: for you sether with kunce?\n",
      "\n",
      "ANTONIO\n",
      "-----------------------\n",
      "||||||||||||||||||||||\n",
      "--------------------------\n",
      "Epoch : 6 Epoch_loss : 1.214408\n",
      "y\n",
      "sea-spoke; my ord, and the devilk or roal and\n",
      "commandhiss'd thy poxen of thine enge;\n",
      "Wobbut and she abouted them with a son,\n",
      "That being when our gadds and minift, at speak at out\n",
      "Withalling as I laug\n",
      "-----------------------\n",
      "||||||||||||||||||||||\n",
      "--------------------------\n",
      "Epoch : 7 Epoch_loss : 1.212397\n",
      "end\n",
      "The poor Servant, such a throat and orn old callan.\n",
      "\n",
      "SEBASTIAN:\n",
      "'A halter Baptista, something call'd bier did fetch\n",
      "A gentleman and his comfiety; let me nothing go the vead;\n",
      "No master fever.\n",
      "\n",
      "ANTON\n",
      "-----------------------\n",
      "||||||||||||||||||||||\n",
      "--------------------------\n",
      "Epoch : 8 Epoch_loss : 1.215771\n",
      "th:\n",
      "With all servants and trades!\n",
      "\n",
      "SEBASTIAN:\n",
      "Whither, as Neverly and Iland well,\n",
      "\n",
      "ANTONIO:\n",
      "\n",
      "ANTONIO:\n",
      "What is my doling soft! some lengty lies thy wealth,\n",
      "Who art needs have something green for the tac\n",
      "-----------------------\n",
      "||||||||||||||||||||||\n",
      "--------------------------\n",
      "Epoch : 9 Epoch_loss : 1.221444\n",
      "lAy:\n",
      "I'll post us fast; so, and that your passippeors\n",
      "As make leants, that content you, you do accept my grow\n",
      "With now's new'sw my spister, if you shrewf, wouldst know our special as\n",
      "You say 'tis ring \n",
      "-----------------------\n",
      "||||||||||||||||||||||\n",
      "--------------------------\n",
      "Epoch : 10 Epoch_loss : 1.228448\n",
      "ones, being off't in\n",
      "fond one 'atharrue, visition.\n",
      "\n",
      "ALONSO:\n",
      "Nothing on no water: give me? Bother?\n",
      "\n",
      "GONZALO:\n",
      "And never out, as she would dame, so riddlour,\n",
      "I well see with all my mistress more sailors,\n",
      "\n",
      "-----------------------\n",
      "||||||||||||||||||||||\n",
      "--------------------------\n",
      "Epoch : 11 Epoch_loss : 1.239643\n",
      "ant's good gentlemen,\n",
      "With thee fect that forgive were all so sentence?\n",
      "Well loaning lune ower himself,\n",
      "Which keeper'd my nunis.\n",
      "\n",
      "GONZALO:\n",
      "Ay sir us name wive?\n",
      "\n",
      "ANTONIO:\n",
      "The trencher i' faith o' wondon\n",
      "-----------------------\n",
      "||||||||||||||||||||||\n",
      "--------------------------\n",
      "Epoch : 12 Epoch_loss : 1.251041\n",
      "d!\n",
      "\n",
      "SALESLAND:\n",
      "What, wishay with you? goodly adsites!\n",
      "What unwith an assmellows she did: not lengthe tree\n",
      "Diall men read, a liar,--\n",
      "\n",
      "SEBASTIAN:\n",
      "What nough an that goes\n",
      "Should know thy saints stars into\n",
      "-----------------------\n",
      "||||||||||||||||||||||\n",
      "--------------------------\n",
      "Epoch : 13 Epoch_loss : 1.267659\n",
      "like at the walts\n",
      "And many eyes go. And whence it both me.\n",
      "\n",
      "GONZALO:\n",
      "No inclinistens outwast you as yourself\n",
      "And, go than weather, with thy servantagress,--\n",
      "\n",
      "SEBASTIAN:\n",
      "We couch and remembranch.\n",
      "\n",
      "SEBAS\n",
      "-----------------------\n",
      "||||||||||||||||||||||\n",
      "--------------------------\n",
      "Epoch : 14 Epoch_loss : 1.281452\n",
      "agly.\n",
      "\n",
      "ANTONIO:\n",
      "\n",
      "ANTONIO:\n",
      "What you do it, go two more?\n",
      "\n",
      "SEBASTIAN:\n",
      "Weed upon me, and make you for, let her kindly; I can.\n",
      "\n",
      "SEBISA:\n",
      "I would fongent\n",
      "To mean them.\n",
      "\n",
      "GONZALO:\n",
      "Forboy: should I cantint to wi\n",
      "-----------------------\n",
      "||||||||||||||||||||||\n",
      "--------------------------\n",
      "Epoch : 15 Epoch_loss : 1.303978\n",
      "nzful armour,\n",
      "Who we wave with all seing the disgur own wautest service all the stand,\n",
      "then, good soul, of a prisingly to speed\n",
      "And bid it were cannot see upon they compen and well,\n",
      "When supposing thei\n",
      "-----------------------\n"
     ]
    }
   ],
   "source": [
    "# LEARNING RATE = 0.0005\n",
    "\n",
    "for epoch in range(EPOCHS):\n",
    "  p = 0\n",
    "  seq_len = seq_length\n",
    "  total_loss = 0\n",
    "  hidden = None\n",
    "  cnt = 0\n",
    "  while p+seq_len+1 < text_size:\n",
    "    inputs = enc_text[p:p+seq_length]\n",
    "    targets = enc_text[p+1:p+seq_length+1]\n",
    "    outputs, hidden = model(inputs, hidden)\n",
    "    loss = loss_fn(torch.squeeze(outputs), torch.squeeze(targets))\n",
    "    total_loss += loss.item()\n",
    "    optimizer.zero_grad()\n",
    "    loss.backward()\n",
    "    optimizer.step()\n",
    "    cnt += 1\n",
    "    p += seq_length\n",
    "    if cnt % 500 == 0:\n",
    "      print('|',end='')\n",
    "  print('\\n--------------------------')\n",
    "      # print(\"Cnt : {} Loss : {:5f}\".format(cnt, total_loss/cnt))\n",
    "  print(\"Epoch : {} Epoch_loss : {:5f}\".format(epoch+1, total_loss/cnt))\n",
    "  total_loss = 0\n",
    "  cnt = 0\n",
    "  with torch.no_grad():\n",
    "    rand_index = np.random.randint(text_size-1)\n",
    "    input_seq = enc_text[rand_index:rand_index+1]\n",
    "    print(idx2char[input_seq[0][0].item()], end='')\n",
    "    hidden = None\n",
    "    size = 0\n",
    "    while size < 200:\n",
    "      outputs, hidden = model(input_seq, hidden)\n",
    "      outputs = F.softmax(torch.squeeze(outputs), dim=0)\n",
    "      dist = Categorical(outputs)\n",
    "      index = dist.sample()\n",
    "      # input_seq[0][0] = index.item()\n",
    "      input_seq[0][0] = index.item()\n",
    "      # input = input.unsqueeze(0)\n",
    "      print(idx2char[index.item()], end='')\n",
    "      size += 1\n",
    "    print(\"\\n-----------------------\")"
   ]
  },
  {
   "cell_type": "code",
   "execution_count": 30,
   "metadata": {
    "colab": {
     "base_uri": "https://localhost:8080/"
    },
    "id": "xQCnBVSuLk_r",
    "outputId": "655aafd0-ec50-4ca4-e9ab-3b1f152987a6"
   },
   "outputs": [
    {
     "name": "stdout",
     "output_type": "stream",
     "text": [
      "||||||||||||||||||||||\n",
      "--------------------------\n",
      "Epoch : 1 Epoch_loss : 1.826299\n",
      "enqther.\n",
      "\n",
      "GONZALO:\n",
      "Your hold no into-tigond.\n",
      "\n",
      "SEASRONA:\n",
      "What think noted than the grate.\n",
      "\n",
      "ANGELO:\n",
      "Who will; nor wo do lovunin to his daughtedly man.\n",
      "-it aN a plemuty josting athell.\n",
      "\n",
      "MERANGIA:\n",
      "Of your man dock, gy pointaning;\n",
      "'bistechion of supperts the would not.\n",
      "\n",
      "SEBASSIO:\n",
      "Bilivigation my fachard:\n",
      "\n",
      "-----------------------\n",
      "||||||||||||||||||||||\n",
      "--------------------------\n",
      "Epoch : 2 Epoch_loss : 1.472017\n",
      "hboot\n",
      "Have so follow-desure upon thank thee?\n",
      "\n",
      "GONZALO:\n",
      "No,\n",
      "Somether his food maliage she should, as such a son,\n",
      "Whom your frof such never daughters; help, in love him:\n",
      "Which is nothing give me, and long you to. Sir,\n",
      "Abbidonal, solet warm'd.\n",
      "\n",
      "SEBASTIAN:\n",
      "It weak, my known'd the men all I being.\n",
      "\n",
      "ANTONI\n",
      "-----------------------\n",
      "||||||||||||||||||||||\n",
      "--------------------------\n",
      "Epoch : 3 Epoch_loss : 1.360680\n",
      ";\n",
      "Khat thou never spoken and nither, fancy 'twixs\n",
      "Would in.\n",
      "\n",
      "GONZALO:\n",
      "If would there thou art una fatch not, but keeps is it.\n",
      "\n",
      "WORSATHAS:\n",
      "No mind.\n",
      "Sweet should.\n",
      "\n",
      "GONZALO:\n",
      "Whathee?\n",
      "\n",
      "AALION:\n",
      "Unless and many sweethino: hath prichion so, forgive\n",
      "of sword.\n",
      "\n",
      "GONZORE:\n",
      "So, I long lost all undemnament.\n",
      "\n",
      "CAPTI\n",
      "-----------------------\n",
      "||||||||||||||||||||||\n",
      "--------------------------\n",
      "Epoch : 4 Epoch_loss : 1.296305\n",
      "\n",
      "Vailst thou gaw,\n",
      "Could sleep as young things are affected in the\n",
      "murderer: if you with a strange one too.\n",
      "\n",
      "ADINA:\n",
      "Ay, milth her rocking worse.\n",
      "\n",
      "SAMPSON:\n",
      "Nothing that you shall deed thee, gives on hin\n",
      "The gaze.\n",
      "\n",
      "SEBASTIAN:\n",
      "Why, formet'st more, Bianca, firswords walcementica,\n",
      "Which on his wetch my cra\n",
      "-----------------------\n",
      "||||||||||||||||||||||\n",
      "--------------------------\n",
      "Epoch : 5 Epoch_loss : 1.250202\n",
      "nCCANDIO:\n",
      "You are no credity; are roo?\n",
      "\n",
      "BIANCA:\n",
      "The rample slave, how'st night.\n",
      "\n",
      "ANTONIO:\n",
      "Syen.\n",
      "\n",
      "MIRANDA:\n",
      "Ay, widow! at fres are allery nature!\n",
      "\n",
      "SEBASTIAN:\n",
      "And all our rediment to the senses: the growns, welcome!\n",
      "\n",
      "AETORYO:\n",
      "Hold, to make thy curbing? Lewnit, no mine, ay,\n",
      "To speak all of fury overwicke\n",
      "-----------------------\n",
      "||||||||||||||||||||||\n",
      "--------------------------\n",
      "Epoch : 6 Epoch_loss : 1.212981\n",
      " PERDuTe?\n",
      "\n",
      "GONZALO:\n",
      "My heart wretch instruct, in loving women,\n",
      "Your countenine word, forgot of my sleeds,\n",
      "Your daughter: but the wallor bring her up,\n",
      "And pray my priests oath.\n",
      "\n",
      "SEcASTIO:\n",
      "It so,\n",
      "The fee? out.\n",
      "\n",
      "SEBASTIAN:\n",
      "Home, banish'd.\n",
      "\n",
      "ANTONIO:\n",
      "Why should I pletters, lord, give e'er ye nothing.\n",
      "\n",
      "ADO\n",
      "-----------------------\n",
      "||||||||||||||||||||||\n",
      "--------------------------\n",
      "Epoch : 7 Epoch_loss : 1.180628\n",
      "tUrKnone\n",
      "Which is mine own sweet swallowing-changing--\n",
      "\n",
      "DERSET:\n",
      "Sir, how\n",
      "That seem forthminate forth as gone.-\n",
      "She business, I'll ruly doubt\n",
      "See the seeming.\n",
      "\n",
      "GONZALUS:\n",
      "I me'er thee, my lord-should have undalliam.\n",
      "\n",
      "ANTONIO:\n",
      "What bloody is the sun? O, let's all born on\n",
      "telies fetch,--\n",
      "\n",
      "SEBASTIAN:\n",
      "Your\n",
      "-----------------------\n",
      "||||||||||||||||||||||\n",
      "--------------------------\n",
      "Epoch : 8 Epoch_loss : 1.150737\n",
      "dust stuffs\n",
      "When I believe ye liar'd, the goddesly in\n",
      "false, in mine eye of ma: I fear me indeed\n",
      "What o'glor on thread.\n",
      "\n",
      "GONZALO:\n",
      "We cannot: widow, Vincentio.\n",
      "\n",
      "SEBASTIAN:\n",
      "What convey'd, here?\n",
      "\n",
      "ADRIAN:\n",
      "Excember to speak, being one: He has the hour o' the crown\n",
      "And my friend corning ladies in the whith\n",
      "-----------------------\n",
      "||||||||||||||||||||||\n",
      "--------------------------\n",
      "Epoch : 9 Epoch_loss : 1.122318\n",
      "htoquer\n",
      "Would we not so.\n",
      "\n",
      "ANTONIO:\n",
      "What issue of confirmaning stoop indeed!\n",
      "The jealous dince and language,\n",
      "Whose wars on't, understand not awake;\n",
      "Out tune's,--\n",
      "\n",
      "SEBASTIAN:\n",
      "Nay, the wisdom of my subrest.\n",
      "\n",
      "SEBASTIAN:\n",
      "Good mercy of the lush; you have done; not this\n",
      "And thus warrant.\n",
      "What doemant, savou\n",
      "-----------------------\n",
      "||||||||||||||||||||||\n",
      "--------------------------\n",
      "Epoch : 10 Epoch_loss : 1.094434\n",
      "seckness\n",
      "And bear; from my sweetly even.\n",
      "\n",
      "PARIA:\n",
      "My charged in father, I will tell you,\n",
      "For was the renoble foot comes at home,\n",
      "Since farthem round, or women knowencity,\n",
      "Good promise. You wrought a serious protection\n",
      "to fell. Wen, tendering on the wager.\n",
      "\n",
      "GONZALO:\n",
      "Sit o'er of your incontinent of her \n",
      "-----------------------\n",
      "||||||||||||||||||||||\n",
      "--------------------------\n",
      "Epoch : 11 Epoch_loss : 1.066784\n",
      "FTRUMEN:\n",
      "Who indied thy fool!\n",
      "Should please a name of Buckingham, for most\n",
      "goodly wounds to use thy purposed browl'd\n",
      "Was't no longer for the crown, whose each our stranger,\n",
      "Staft on me; thou takest me and man, widow Diar,\n",
      "In me and rough fresh for money of thine earth,\n",
      "And quit it is not hourh'd by h\n",
      "-----------------------\n",
      "||||||||||||||||||||||\n",
      "--------------------------\n",
      "Epoch : 12 Epoch_loss : 1.039245\n",
      ",\n",
      "How fair suffer'st my cheer? jow of Lady?\n",
      "\n",
      "ANTONIO:\n",
      "A' wish, save queen indeed.\n",
      "\n",
      "SEBASTIAN:\n",
      "Your daughter, sir, I love them.\n",
      "What immortal womanito?\n",
      "\n",
      "ANTONIO:\n",
      "This island not yield will not stoppern'd in some\n",
      "cooting to saw this isle, that sets o' the priest\n",
      "Upon the next sons.\n",
      "\n",
      "ALONSO:\n",
      "Why, 'tis, \n",
      "-----------------------\n",
      "||||||||||||||||||||||\n",
      "--------------------------\n",
      "Epoch : 13 Epoch_loss : 1.011455\n",
      " Katharina:\n",
      "Nay, went me not.\n",
      "\n",
      "CALIBEN:\n",
      "Sir, haid\n",
      "Knock the ramps and knaves. Is't do me that I see\n",
      "when Capitol! I beseech you;\n",
      "WheneY thou didst not ran a froward\n",
      "Biat's runage craft, for her;\n",
      "You must never scarce chemsel's crowns;\n",
      "And go about head so; so I, in her liking,\n",
      "Would I have, I found t\n",
      "-----------------------\n",
      "||||||||||||||||||||||\n",
      "--------------------------\n",
      "Epoch : 14 Epoch_loss : 0.983484\n",
      "t:\n",
      "Our subjects lies it.\n",
      "\n",
      "CALIBAN:\n",
      "Sir, she Tarry.\n",
      "\n",
      "Widow:\n",
      "Come, my lord;\n",
      "I'll not see your ignory as yourselves:\n",
      "Now, foolish together, sir. Worehold in't\n",
      "Shall thick on yard shall, I say.\n",
      "\n",
      "GONZALO:\n",
      "O monuent peace!\n",
      "If you long mute as I hear, sit down thyself\n",
      "With guilty stooping and not frown.\n",
      "\n",
      "GO\n",
      "-----------------------\n",
      "||||||||||||||||||||||\n",
      "--------------------------\n",
      "Epoch : 15 Epoch_loss : 0.955430\n",
      "redJund\n",
      "A helm.\n",
      "\n",
      "ANTONIO:\n",
      "'Tis nece, softly; indeed to taven\n",
      "Would all her good state, and most good\n",
      "Madest fellows.\n",
      "\n",
      "ALONSO:\n",
      "O sir, awake! what doth command this!\n",
      "\n",
      "ADRIAN:\n",
      "Yet,--\n",
      "\n",
      "SEBASTIAN:\n",
      "What would you are ready?\n",
      "\n",
      "ADRIAN:\n",
      "What hast thou outweeth?\n",
      "\n",
      "ANTONIO:\n",
      "So they have ever look'd for something.\n",
      "-----------------------\n"
     ]
    }
   ],
   "source": [
    "#LEARNING RATE = 0.0001\n",
    "\n",
    "for epoch in range(EPOCHS):\n",
    "  p = 0\n",
    "  seq_len = seq_length\n",
    "  total_loss = 0\n",
    "  hidden = None\n",
    "  cnt = 0\n",
    "  while p+seq_len+1 < text_size:\n",
    "    inputs = enc_text[p:p+seq_length]\n",
    "    targets = enc_text[p+1:p+seq_length+1]\n",
    "    outputs, hidden = model(inputs, hidden)\n",
    "    loss = loss_fn(torch.squeeze(outputs), torch.squeeze(targets))\n",
    "    total_loss += loss.item()\n",
    "    optimizer.zero_grad()\n",
    "    loss.backward()\n",
    "    optimizer.step()\n",
    "    cnt += 1\n",
    "    p += seq_length\n",
    "    if cnt % 500 == 0:\n",
    "      print('|',end='')\n",
    "  print('\\n--------------------------')\n",
    "      # print(\"Cnt : {} Loss : {:5f}\".format(cnt, total_loss/cnt))\n",
    "  print(\"Epoch : {} Epoch_loss : {:5f}\".format(epoch+1, total_loss/cnt))\n",
    "  total_loss = 0\n",
    "  cnt = 0\n",
    "  with torch.no_grad():\n",
    "    rand_index = np.random.randint(text_size-1)\n",
    "    input_seq = enc_text[rand_index:rand_index+1]\n",
    "    print(idx2char[input_seq[0][0].item()], end='')\n",
    "    hidden = None\n",
    "    size = 0\n",
    "    while size < 300:\n",
    "      outputs, hidden = model(input_seq, hidden)\n",
    "      outputs = F.softmax(torch.squeeze(outputs), dim=0)\n",
    "      dist = Categorical(outputs)\n",
    "      index = dist.sample()\n",
    "      # input_seq[0][0] = index.item()\n",
    "      input_seq[0][0] = index.item()\n",
    "      # input = input.unsqueeze(0)\n",
    "      print(idx2char[index.item()], end='')\n",
    "      size += 1\n",
    "    print(\"\\n-----------------------\")"
   ]
  },
  {
   "cell_type": "code",
   "execution_count": 35,
   "metadata": {
    "colab": {
     "base_uri": "https://localhost:8080/"
    },
    "id": "WyvazoxCkvrs",
    "outputId": "a41e8bec-0838-4c60-8821-2dd4114e1642"
   },
   "outputs": [
    {
     "name": "stdout",
     "output_type": "stream",
     "text": [
      "ed:\n",
      "Peace agaunt!\n",
      "\n",
      "ANTONIO:\n",
      "I told you\n",
      "I'll have no means to the moon.\n",
      "\n",
      "LUCENTIO:\n",
      "Alack, for more; and then he had sound so\n",
      "As old Angelo: Why the kind was own life\n",
      "Should make thee bigger?\n",
      "\n",
      "ANTONIO:\n",
      "Well, Aage, a beggar-'I would wear my heart\n",
      "verily of his never: advise you,\n",
      "With this mad diem. Come, come to his cheruse\n",
      "Berow.\n",
      "\n",
      "ANTONIO:\n",
      "\n",
      "ANTONIO:\n",
      "He would not have been straight thinks it the men\n",
      "tell sometimes of you.\n",
      "\n",
      "RIVERS:\n",
      "Both rise like words.\n",
      "\n",
      "ANTONIO:\n",
      "But when thou hast fine mercy?\n",
      "\n",
      "GONZALO:\n",
      "What! good Barnation, follow: mine.\n",
      "\n",
      "ANTIONE:\n",
      "The earth abrival be.\n",
      "\n",
      "ANTONIO:\n",
      "Call up succass! we were possess'd himself,\n",
      "To lose her not; and if thy mainterary,\n",
      "So often burst to-morrow,\n",
      "Though turn'd my boltness as they do content\n",
      "They then begins, And tell her son, and\n",
      "from us thriving woman \n",
      "-----------------------\n"
     ]
    }
   ],
   "source": [
    "total_loss = 0\n",
    "cnt = 0\n",
    "with torch.no_grad():\n",
    "  rand_index = np.random.randint(text_size-1)\n",
    "  input_seq = enc_text[rand_index:rand_index+1]\n",
    "  print(idx2char[input_seq[0][0].item()], end='')\n",
    "  hidden = None\n",
    "  size = 0\n",
    "  while size < 800:\n",
    "    outputs, hidden = model(input_seq, hidden)\n",
    "    outputs = F.softmax(torch.squeeze(outputs), dim=0)\n",
    "    dist = Categorical(outputs)\n",
    "    index = dist.sample()\n",
    "    # input_seq[0][0] = index.item()\n",
    "    input_seq[0][0] = index.item()\n",
    "    # input = input.unsqueeze(0)\n",
    "    print(idx2char[index.item()], end='')\n",
    "    size += 1\n",
    "  print(\"\\n-----------------------\")"
   ]
  }
 ],
 "metadata": {
  "accelerator": "GPU",
  "colab": {
   "collapsed_sections": [],
   "name": "CustomLayers",
   "provenance": []
  },
  "kernelspec": {
   "display_name": "Python 3",
   "language": "python",
   "name": "python3"
  },
  "language_info": {
   "codemirror_mode": {
    "name": "ipython",
    "version": 3
   },
   "file_extension": ".py",
   "mimetype": "text/x-python",
   "name": "python",
   "nbconvert_exporter": "python",
   "pygments_lexer": "ipython3",
   "version": "3.8.3"
  }
 },
 "nbformat": 4,
 "nbformat_minor": 1
}
